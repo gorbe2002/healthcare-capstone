{
  "cells": [
    {
      "cell_type": "code",
      "execution_count": 1,
      "metadata": {
        "id": "omoi_K7bqqmy"
      },
      "outputs": [],
      "source": [
        "import numpy as np\n",
        "from sklearn.preprocessing import StandardScaler\n",
        "from sklearn.linear_model import LinearRegression\n",
        "from sklearn.svm import SVR\n",
        "from sklearn.model_selection import train_test_split\n",
        "from sklearn.pipeline import Pipeline\n",
        "from sklearn.metrics import mean_absolute_error, mean_squared_error, r2_score"
      ]
    },
    {
      "cell_type": "code",
      "execution_count": 2,
      "metadata": {},
      "outputs": [],
      "source": [
        "# Load data\n",
        "DATA = {\n",
        "    \"lung\":    dict(X=\"data/lung_features.npy\",    y=\"data/lung_target.npy\"),\n",
        "    \"bladder\": dict(X=\"data/bladder_features.npy\", y=\"data/bladder_target.npy\"),\n",
        "}\n",
        "\n",
        "def flatten(arr):\n",
        "    n, t, p = arr.shape\n",
        "    return arr.reshape(n, t * p)"
      ]
    },
    {
      "cell_type": "markdown",
      "metadata": {},
      "source": [
        "## Linear Regression"
      ]
    },
    {
      "cell_type": "code",
      "execution_count": 3,
      "metadata": {},
      "outputs": [],
      "source": [
        "# Create Linear Regression model\n",
        "def linreg_baseline(name):\n",
        "    X = flatten(np.load(DATA[name][\"X\"]))\n",
        "    y = np.load(DATA[name][\"y\"])\n",
        "\n",
        "    X_train, X_test, y_train, y_test = train_test_split(X, y, test_size=0.2, random_state=11)\n",
        "\n",
        "    linreg_model = LinearRegression()\n",
        "    linreg_model.fit(X_train, y_train)\n",
        "    y_pred = linreg_model.predict(X_test)\n",
        "\n",
        "    return dict(\n",
        "        MAE = mean_absolute_error(y_test, y_pred),\n",
        "        MSE = mean_squared_error(y_test, y_pred),\n",
        "        R2  = r2_score(y_test, y_pred)\n",
        "    )"
      ]
    },
    {
      "cell_type": "code",
      "execution_count": 4,
      "metadata": {},
      "outputs": [
        {
          "name": "stdout",
          "output_type": "stream",
          "text": [
            "LUNG      MAE=0.006664  MSE=0.00014681  R²=-87.668\n",
            "BLADDER   MAE=0.002571  MSE=0.00002305  R²=-164.085\n"
          ]
        }
      ],
      "source": [
        "# Evaluate linear regression results for lung and bladder data\n",
        "for ds in (\"lung\", \"bladder\"):\n",
        "    s = linreg_baseline(ds)\n",
        "    print(f\"{ds.upper():8}  MAE={s['MAE']:.6f}  \"\n",
        "            f\"MSE={s['MSE']:.8f}  R²={s['R2']:+.3f}\")"
      ]
    },
    {
      "cell_type": "markdown",
      "metadata": {},
      "source": [
        "## Support Vector Regression"
      ]
    },
    {
      "cell_type": "code",
      "execution_count": 5,
      "metadata": {},
      "outputs": [],
      "source": [
        "# Create Support Vector Regression (SVR) model\n",
        "def svr_baseline(name):\n",
        "    X = flatten(np.load(DATA[name][\"X\"]))\n",
        "    y = np.load(DATA[name][\"y\"])\n",
        "\n",
        "    X_train, X_test, y_train, y_test = train_test_split(X, y, test_size=0.2, random_state=11)\n",
        "\n",
        "    pipe = Pipeline([\n",
        "        ('scalar', StandardScaler()),\n",
        "        ('svr', SVR())\n",
        "    ])\n",
        "    \n",
        "    pipe.fit(X_train, y_train)\n",
        "    y_pred = pipe.predict(X_test)\n",
        "\n",
        "    return dict(\n",
        "        MAE = mean_absolute_error(y_test, y_pred),\n",
        "        MSE = mean_squared_error(y_test, y_pred),\n",
        "        R2  = r2_score(y_test, y_pred)\n",
        "    )"
      ]
    },
    {
      "cell_type": "code",
      "execution_count": 6,
      "metadata": {},
      "outputs": [
        {
          "name": "stdout",
          "output_type": "stream",
          "text": [
            "LUNG      MAE=0.002713  MSE=0.00000826  R²=-3.986\n",
            "BLADDER   MAE=0.001106  MSE=0.00000134  R²=-8.608\n"
          ]
        }
      ],
      "source": [
        "# Evaluate SVR results for lung and bladder data\n",
        "for ds in (\"lung\", \"bladder\"):\n",
        "    s = svr_baseline(ds)\n",
        "    print(f\"{ds.upper():8}  MAE={s['MAE']:.6f}  \"\n",
        "            f\"MSE={s['MSE']:.8f}  R²={s['R2']:+.3f}\")"
      ]
    }
  ],
  "metadata": {
    "colab": {
      "provenance": []
    },
    "kernelspec": {
      "display_name": "base",
      "language": "python",
      "name": "python3"
    },
    "language_info": {
      "codemirror_mode": {
        "name": "ipython",
        "version": 3
      },
      "file_extension": ".py",
      "mimetype": "text/x-python",
      "name": "python",
      "nbconvert_exporter": "python",
      "pygments_lexer": "ipython3",
      "version": "3.12.4"
    }
  },
  "nbformat": 4,
  "nbformat_minor": 0
}
