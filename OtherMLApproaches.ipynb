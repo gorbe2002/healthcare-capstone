{
  "cells": [
    {
      "cell_type": "code",
      "execution_count": 1,
      "metadata": {
        "id": "omoi_K7bqqmy"
      },
      "outputs": [],
      "source": [
        "import numpy as np\n",
        "import pandas as pd\n",
        "import matplotlib.pyplot as plt\n",
        "import seaborn as sns\n",
        "from sklearn.preprocessing import StandardScaler\n",
        "from sklearn.linear_model import LinearRegression\n",
        "from sklearn.svm import LinearSVR\n",
        "from sklearn.model_selection import train_test_split\n",
        "from sklearn.metrics import mean_squared_error, mean_absolute_error, r2_score"
      ]
    },
    {
      "cell_type": "markdown",
      "metadata": {
        "id": "xDdufE6v7BeP"
      },
      "source": [
        "# Linear Regression & SVM Regressor"
      ]
    },
    {
      "cell_type": "markdown",
      "metadata": {
        "id": "e9i3EKtEBrpP"
      },
      "source": [
        "## Bladder Data"
      ]
    },
    {
      "cell_type": "code",
      "execution_count": 2,
      "metadata": {
        "colab": {
          "base_uri": "https://localhost:8080/",
          "height": 0
        },
        "id": "zZfHnSVuBwKy",
        "outputId": "955f0953-ae28-472b-b877-2a2718864633"
      },
      "outputs": [
        {
          "name": "stderr",
          "output_type": "stream",
          "text": [
            "/home/gabrielorbe/anaconda3/lib/python3.12/site-packages/sklearn/svm/_classes.py:31: FutureWarning: The default value of `dual` will change from `True` to `'auto'` in 1.5. Set the value of `dual` explicitly to suppress the warning.\n",
            "  warnings.warn(\n"
          ]
        },
        {
          "name": "stdout",
          "output_type": "stream",
          "text": [
            "Linear Regression Performance\n",
            "\n",
            "Mean Squared Error: 381483960664.73474\n",
            "Mean Absolute Error: 4693.852534591085\n",
            "R2 Score: -190445845891.00754\n",
            "\n",
            "Linear SVR Performance\n",
            "\n",
            "Mean Squared Error: 33454786.410907477\n",
            "Mean Absolute Error: 43.649461569467256\n",
            "R2 Score: -16701422.268385118\n"
          ]
        },
        {
          "name": "stderr",
          "output_type": "stream",
          "text": [
            "/home/gabrielorbe/anaconda3/lib/python3.12/site-packages/sklearn/svm/_base.py:1237: ConvergenceWarning: Liblinear failed to converge, increase the number of iterations.\n",
            "  warnings.warn(\n"
          ]
        }
      ],
      "source": [
        "# Import data\n",
        "bladder_path = \"datasets/bladder_no_geo.csv\"\n",
        "bladder_df = pd.read_csv(bladder_path)\n",
        "# print(bladder_df.head())\n",
        "# print(bladder_df.columns)\n",
        "\n",
        "# Preprocess data\n",
        "bladder_df = bladder_df.drop(columns=[\"Unnamed: 0.1\", \"geo_code\"]) # drop unnecessary columns\n",
        "bladder_df.fillna(0, inplace=True) # fill NaN values w/ 0\n",
        "\n",
        "# Extract feature and target features\n",
        "X = bladder_df.drop(columns=['county_count'])\n",
        "y = bladder_df['county_count']\n",
        "\n",
        "# Split data\n",
        "X_train, X_test, y_train, y_test = train_test_split(X, y, test_size=0.25, random_state=11)\n",
        "\n",
        "# Standardize features for SVR\n",
        "scaler = StandardScaler()\n",
        "X_train_scaled = scaler.fit_transform(X_train)\n",
        "X_test_scaled = scaler.transform(X_test)\n",
        "\n",
        "# Create models\n",
        "linreg_model = LinearRegression()\n",
        "svr_model = LinearSVR(max_iter=5000)\n",
        "\n",
        "# Fit data to models\n",
        "linreg_model.fit(X_train, y_train)\n",
        "svr_model.fit(X_train_scaled, y_train)\n",
        "\n",
        "# Make predictions\n",
        "y_pred_linreg = linreg_model.predict(X_test)\n",
        "y_pred_svr = svr_model.predict(X_test_scaled)\n",
        "\n",
        "# Evaluate Linear Regression\n",
        "mse_linreg = mean_squared_error(y_test, y_pred_linreg)\n",
        "mae_linreg = mean_absolute_error(y_test, y_pred_linreg)\n",
        "r2_linreg = r2_score(y_test, y_pred_linreg)\n",
        "\n",
        "# Evaluate SVR\n",
        "mse_svr = mean_squared_error(y_test, y_pred_svr)\n",
        "mae_svr = mean_absolute_error(y_test, y_pred_svr)\n",
        "r2_svr = r2_score(y_test, y_pred_svr)\n",
        "\n",
        "# Print results\n",
        "print(\"Linear Regression Performance\\n\")\n",
        "print(f\"Mean Squared Error: {mse_linreg}\")\n",
        "print(f\"Mean Absolute Error: {mae_linreg}\")\n",
        "print(f\"R2 Score: {r2_linreg}\")\n",
        "\n",
        "print(\"\\nLinear SVR Performance\\n\")\n",
        "print(f\"Mean Squared Error: {mse_svr}\")\n",
        "print(f\"Mean Absolute Error: {mae_svr}\")\n",
        "print(f\"R2 Score: {r2_svr}\")"
      ]
    },
    {
      "cell_type": "markdown",
      "metadata": {
        "id": "2jtKa0qKqm5x"
      },
      "source": [
        "## Lung Data"
      ]
    },
    {
      "cell_type": "code",
      "execution_count": 3,
      "metadata": {
        "colab": {
          "base_uri": "https://localhost:8080/",
          "height": 0
        },
        "id": "FCULpccTqnOY",
        "outputId": "54f714f1-c825-4449-9b64-a3990616d1d3"
      },
      "outputs": [
        {
          "name": "stderr",
          "output_type": "stream",
          "text": [
            "/home/gabrielorbe/anaconda3/lib/python3.12/site-packages/sklearn/svm/_classes.py:31: FutureWarning: The default value of `dual` will change from `True` to `'auto'` in 1.5. Set the value of `dual` explicitly to suppress the warning.\n",
            "  warnings.warn(\n"
          ]
        },
        {
          "name": "stdout",
          "output_type": "stream",
          "text": [
            "Linear Regression Performance\n",
            "\n",
            "Mean Squared Error: 4542530511369.597\n",
            "Mean Absolute Error: 15917.479037323328\n",
            "R2 Score: -278897502059.74005\n",
            "\n",
            "Linear SVR Performance\n",
            "\n",
            "Mean Squared Error: 852140232.9073566\n",
            "Mean Absolute Error: 218.983184813448\n",
            "R2 Score: -52318807.15516269\n"
          ]
        },
        {
          "name": "stderr",
          "output_type": "stream",
          "text": [
            "/home/gabrielorbe/anaconda3/lib/python3.12/site-packages/sklearn/svm/_base.py:1237: ConvergenceWarning: Liblinear failed to converge, increase the number of iterations.\n",
            "  warnings.warn(\n"
          ]
        }
      ],
      "source": [
        "# Import data\n",
        "lung_path = \"datasets/lung_no_geo.csv\"\n",
        "lung_df = pd.read_csv(lung_path)\n",
        "# print(lung_df.head())\n",
        "# print(lung_df.columns)\n",
        "\n",
        "# Preprocess data\n",
        "lung_df = lung_df.drop(columns=[\"Unnamed: 0.1\", \"geo_code\"]) # drop unnecessary columns\n",
        "lung_df.fillna(0, inplace=True) # fill NaN values w/ 0\n",
        "\n",
        "# Extract feature and target features\n",
        "X = lung_df.drop(columns=['county_count'])\n",
        "y = lung_df['county_count']\n",
        "\n",
        "# Split data\n",
        "X_train, X_test, y_train, y_test = train_test_split(X, y, test_size=0.25, random_state=11)\n",
        "\n",
        "# Standardize features for SVR\n",
        "scaler = StandardScaler()\n",
        "X_train_scaled = scaler.fit_transform(X_train)\n",
        "X_test_scaled = scaler.transform(X_test)\n",
        "\n",
        "# Create models\n",
        "linreg_model = LinearRegression()\n",
        "svr_model = LinearSVR(max_iter=5000)\n",
        "\n",
        "# Fit data to models\n",
        "linreg_model.fit(X_train, y_train)\n",
        "svr_model.fit(X_train_scaled, y_train)\n",
        "\n",
        "# Make predictions\n",
        "y_pred_linreg = linreg_model.predict(X_test)\n",
        "y_pred_svr = svr_model.predict(X_test_scaled)\n",
        "\n",
        "# Evaluate Linear Regression\n",
        "mse_linreg = mean_squared_error(y_test, y_pred_linreg)\n",
        "mae_linreg = mean_absolute_error(y_test, y_pred_linreg)\n",
        "r2_linreg = r2_score(y_test, y_pred_linreg)\n",
        "\n",
        "# Evaluate SVR\n",
        "mse_svr = mean_squared_error(y_test, y_pred_svr)\n",
        "mae_svr = mean_absolute_error(y_test, y_pred_svr)\n",
        "r2_svr = r2_score(y_test, y_pred_svr)\n",
        "\n",
        "# Print results\n",
        "print(\"Linear Regression Performance\\n\")\n",
        "print(f\"Mean Squared Error: {mse_linreg}\")\n",
        "print(f\"Mean Absolute Error: {mae_linreg}\")\n",
        "print(f\"R2 Score: {r2_linreg}\")\n",
        "\n",
        "print(\"\\nLinear SVR Performance\\n\")\n",
        "print(f\"Mean Squared Error: {mse_svr}\")\n",
        "print(f\"Mean Absolute Error: {mae_svr}\")\n",
        "print(f\"R2 Score: {r2_svr}\")"
      ]
    }
  ],
  "metadata": {
    "colab": {
      "provenance": []
    },
    "kernelspec": {
      "display_name": "base",
      "language": "python",
      "name": "python3"
    },
    "language_info": {
      "codemirror_mode": {
        "name": "ipython",
        "version": 3
      },
      "file_extension": ".py",
      "mimetype": "text/x-python",
      "name": "python",
      "nbconvert_exporter": "python",
      "pygments_lexer": "ipython3",
      "version": "3.12.4"
    }
  },
  "nbformat": 4,
  "nbformat_minor": 0
}
