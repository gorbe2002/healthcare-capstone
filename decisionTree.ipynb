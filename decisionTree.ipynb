{
 "cells": [
  {
   "cell_type": "code",
   "execution_count": 83,
   "id": "b7595665",
   "metadata": {},
   "outputs": [],
   "source": [
    "import numpy as np\n",
    "from sklearn.tree import DecisionTreeRegressor\n",
    "from sklearn.model_selection import GridSearchCV, train_test_split\n",
    "from sklearn.feature_selection import VarianceThreshold, SelectKBest, mutual_info_regression\n",
    "from sklearn.pipeline import Pipeline\n",
    "from sklearn.metrics import mean_absolute_error, mean_squared_error, r2_score"
   ]
  },
  {
   "cell_type": "code",
   "execution_count": null,
   "id": "0cfef489",
   "metadata": {},
   "outputs": [],
   "source": [
    "DATA = {\n",
    "    \"lung\":    dict(X=\"data/lung_features.npy\",    y=\"data/lung_target.npy\"),\n",
    "    \"bladder\": dict(X=\"data/bladder_features.npy\", y=\"data/bladder_target.npy\"),\n",
    "}"
   ]
  },
  {
   "cell_type": "code",
   "execution_count": 85,
   "id": "b7e4c03f",
   "metadata": {},
   "outputs": [],
   "source": [
    "def flatten(arr):\n",
    "    n, t, p = arr.shape\n",
    "    return arr.reshape(n, t * p)"
   ]
  },
  {
   "cell_type": "code",
   "execution_count": null,
   "id": "df8b8e7e",
   "metadata": {},
   "outputs": [],
   "source": [
    "def dt_grid_baseline(name, *, seed=42):\n",
    "    X = flatten(np.load(DATA[name][\"X\"]))\n",
    "    y = np.load(DATA[name][\"y\"])\n",
    "\n",
    "    Xtr, Xte, ytr, yte = train_test_split(X, y, test_size=0.2, random_state=seed)\n",
    "\n",
    "    pipe = Pipeline([\n",
    "        (\"const\", VarianceThreshold()),\n",
    "        (\"tree\",  DecisionTreeRegressor(random_state=seed)),\n",
    "    ])\n",
    "\n",
    "    param_grid = {\n",
    "        \"tree__max_depth\":        [None, 5, 10, 20, 30],\n",
    "        \"tree__min_samples_split\": [2, 5, 10],\n",
    "        \"tree__min_samples_leaf\":  [1, 2, 4],\n",
    "    }\n",
    "\n",
    "    gs = GridSearchCV(\n",
    "        pipe,\n",
    "        param_grid,\n",
    "        scoring=\"neg_mean_squared_error\",\n",
    "        cv=3,\n",
    "        n_jobs=-1,\n",
    "    ).fit(Xtr, ytr)\n",
    "\n",
    "    pred = gs.predict(Xte)\n",
    "\n",
    "    return dict(\n",
    "        MAE = mean_absolute_error(yte, pred),\n",
    "        MSE = mean_squared_error(yte, pred),\n",
    "        R2  = r2_score(yte, pred),\n",
    "        best= gs.best_params_,\n",
    "    )"
   ]
  },
  {
   "cell_type": "code",
   "execution_count": null,
   "id": "b8f067cb",
   "metadata": {},
   "outputs": [
    {
     "name": "stdout",
     "output_type": "stream",
     "text": [
      "LUNG      MAE=0.000771  MSE=0.00000180  R²=-0.118  Params={'tree__max_depth': 5, 'tree__min_samples_leaf': 4, 'tree__min_samples_split': 2}\n",
      "BLADDER   MAE=0.000196  MSE=0.00000012  R²=+0.539  Params={'tree__max_depth': 5, 'tree__min_samples_leaf': 4, 'tree__min_samples_split': 2}\n"
     ]
    }
   ],
   "source": [
    "for ds in (\"lung\", \"bladder\"):\n",
    "    s = dt_grid_baseline(ds)\n",
    "    print(f\"{ds.upper():8}  MAE={s['MAE']:.6f}  \"\n",
    "            f\"MSE={s['MSE']:.8f}  R²={s['R2']:+.3f}  \"\n",
    "            f\"Params={s['best']}\")"
   ]
  }
 ],
 "metadata": {
  "kernelspec": {
   "display_name": "base",
   "language": "python",
   "name": "python3"
  },
  "language_info": {
   "codemirror_mode": {
    "name": "ipython",
    "version": 3
   },
   "file_extension": ".py",
   "mimetype": "text/x-python",
   "name": "python",
   "nbconvert_exporter": "python",
   "pygments_lexer": "ipython3",
   "version": "3.9.13"
  }
 },
 "nbformat": 4,
 "nbformat_minor": 5
}
